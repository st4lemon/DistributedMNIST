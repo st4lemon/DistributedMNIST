{
 "cells": [
  {
   "cell_type": "code",
   "execution_count": null,
   "id": "3bc40844",
   "metadata": {},
   "outputs": [],
   "source": [
    "import requests\n",
    "import json\n",
    "import os\n",
    "import time\n"
   ]
  },
  {
   "cell_type": "code",
   "execution_count": null,
   "id": "6818548a",
   "metadata": {},
   "outputs": [],
   "source": [
    "\n",
    "response = requests.get(\n",
    "    url=\"http://localhost:8000/\"\n",
    ")\n",
    "\n",
    "print(f\"Response code: {response.status_code}\")\n",
    "print(f\"Response content: {response.content}\")\n"
   ]
  },
  {
   "cell_type": "code",
   "execution_count": null,
   "id": "11e62793",
   "metadata": {},
   "outputs": [],
   "source": [
    "\n",
    "response = requests.post(\n",
    "    url=\"http://localhost:8000/message\",\n",
    "    params={\n",
    "        \"msg\": \"Hello from demo.ipynb!\"\n",
    "    }\n",
    ")\n",
    "\n",
    "print(f\"Response code: {response.status_code}\") \n",
    "print(f\"Response content: {response.content}\")\n"
   ]
  },
  {
   "cell_type": "code",
   "execution_count": null,
   "id": "d45c18ea",
   "metadata": {},
   "outputs": [],
   "source": [
    "for i in range(100):\n",
    "    \n",
    "    response = requests.post(\n",
    "        url=\"http://localhost:8000/message\",\n",
    "        params={\n",
    "            \"msg\": \"Hello from demo.ipynb!\"\n",
    "        }\n",
    "    )\n",
    "\n",
    "    print(f\"Response code: {response.status_code}\")\n",
    "    print(f\"Response content: {response.content}\")\n",
    "\n",
    "    time.sleep(0.2)\n"
   ]
  },
  {
   "cell_type": "code",
   "execution_count": null,
   "id": "63d0d8aa",
   "metadata": {},
   "outputs": [],
   "source": [
    "import sklearn \n",
    "from sklearn import datasets\n",
    "import pandas as pd\n",
    "from IPython.display import display\n"
   ]
  },
  {
   "cell_type": "code",
   "execution_count": null,
   "id": "ad9be0ef",
   "metadata": {},
   "outputs": [],
   "source": [
    "mnist = datasets.load_digits()\n",
    "mnist_data = mnist.data"
   ]
  },
  {
   "cell_type": "code",
   "execution_count": null,
   "id": "1f775ce4",
   "metadata": {},
   "outputs": [],
   "source": [
    "\n",
    "print(len(mnist_data))\n"
   ]
  },
  {
   "cell_type": "code",
   "execution_count": null,
   "id": "f463fdcb",
   "metadata": {},
   "outputs": [],
   "source": [
    "\n",
    "df = pd.DataFrame(mnist_data)\n",
    "display(df)\n"
   ]
  },
  {
   "cell_type": "code",
   "execution_count": null,
   "id": "6bbe8824",
   "metadata": {},
   "outputs": [],
   "source": [
    "\n",
    "df.to_csv('mnist.csv', index=False)\n",
    "\n"
   ]
  },
  {
   "cell_type": "code",
   "execution_count": null,
   "id": "e53b4f79",
   "metadata": {},
   "outputs": [],
   "source": [
    "\n",
    "import httpx\n",
    "\n",
    "def file_chunker(path, chunk_size=1024*1024):\n",
    "    with open(path, \"rb\") as f:\n",
    "        while chunk := f.read(chunk_size):\n",
    "            yield chunk\n",
    "\n",
    "url = \"http://localhost:8000/mnist\"\n",
    "with httpx.stream(\"POST\", url, headers={ 'rows': f'{len(df)}' }, data=file_chunker('mnist.csv')) as response:\n",
    "    print(response.status_code)\n",
    "    data = response.read()\n",
    "    print(response.json())\n"
   ]
  }
 ],
 "metadata": {
  "kernelspec": {
   "display_name": ".venv",
   "language": "python",
   "name": "python3"
  },
  "language_info": {
   "codemirror_mode": {
    "name": "ipython",
    "version": 3
   },
   "file_extension": ".py",
   "mimetype": "text/x-python",
   "name": "python",
   "nbconvert_exporter": "python",
   "pygments_lexer": "ipython3",
   "version": "3.12.3"
  }
 },
 "nbformat": 4,
 "nbformat_minor": 5
}
