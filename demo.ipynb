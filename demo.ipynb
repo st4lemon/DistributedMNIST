{
 "cells": [
  {
   "cell_type": "code",
   "execution_count": 1,
   "id": "3bc40844",
   "metadata": {},
   "outputs": [],
   "source": [
    "import requests\n",
    "import json\n",
    "import os\n",
    "\n"
   ]
  },
  {
   "cell_type": "code",
   "execution_count": 2,
   "id": "6818548a",
   "metadata": {},
   "outputs": [
    {
     "name": "stdout",
     "output_type": "stream",
     "text": [
      "Response code: 200\n",
      "Response content: b'{\"message\":\"pong\"}'\n"
     ]
    }
   ],
   "source": [
    "\n",
    "response = requests.get(\n",
    "    url=\"http://localhost:8000/\"\n",
    ")\n",
    "\n",
    "print(f\"Response code: {response.status_code}\")\n",
    "print(f\"Response content: {response.content}\")\n"
   ]
  },
  {
   "cell_type": "code",
   "execution_count": null,
   "id": "d9730973",
   "metadata": {},
   "outputs": [],
   "source": []
  },
  {
   "cell_type": "code",
   "execution_count": 7,
   "id": "11e62793",
   "metadata": {},
   "outputs": [
    {
     "name": "stdout",
     "output_type": "stream",
     "text": [
      "Response code: 200\n",
      "Response content: b'{\"job_id\":\"bfc74ba1-af22-4e68-8323-53bf49a9f05a\"}'\n"
     ]
    }
   ],
   "source": [
    "\n",
    "response = requests.post(\n",
    "    url=\"http://localhost:8000/message\",\n",
    "    params={\n",
    "        \"msg\": \"Hello from demo.ipynb!\"\n",
    "    }\n",
    ")\n",
    "\n",
    "print(f\"Response code: {response.status_code}\")\n",
    "print(f\"Response content: {response.content}\")\n"
   ]
  }
 ],
 "metadata": {
  "kernelspec": {
   "display_name": ".venv",
   "language": "python",
   "name": "python3"
  },
  "language_info": {
   "codemirror_mode": {
    "name": "ipython",
    "version": 3
   },
   "file_extension": ".py",
   "mimetype": "text/x-python",
   "name": "python",
   "nbconvert_exporter": "python",
   "pygments_lexer": "ipython3",
   "version": "3.12.3"
  }
 },
 "nbformat": 4,
 "nbformat_minor": 5
}
